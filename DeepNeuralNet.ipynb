{
  "nbformat": 4,
  "nbformat_minor": 0,
  "metadata": {
    "colab": {
      "provenance": [],
      "authorship_tag": "ABX9TyNQEV/PgL9H3HZiIPeHC9nX",
      "include_colab_link": true
    },
    "kernelspec": {
      "name": "python3",
      "display_name": "Python 3"
    }
  },
  "cells": [
    {
      "cell_type": "markdown",
      "metadata": {
        "id": "view-in-github",
        "colab_type": "text"
      },
      "source": [
        "<a href=\"https://colab.research.google.com/github/etokley/stock-prediction-ml-finalproject/blob/master/DeepNeuralNet.ipynb\" target=\"_parent\"><img src=\"https://colab.research.google.com/assets/colab-badge.svg\" alt=\"Open In Colab\"/></a>"
      ]
    },
    {
      "cell_type": "code",
      "metadata": {
        "id": "9uTYA9XDw3Mp"
      },
      "source": [
        "import tensorflow.compat.v1 as tf\n",
        "import numpy as np\n",
        "import pandas as pd\n",
        "from sklearn.preprocessing import LabelEncoder\n",
        "from sklearn.model_selection import train_test_split\n",
        "import warnings\n",
        "\n",
        "warnings.filterwarnings(\"ignore\")"
      ],
      "execution_count": null,
      "outputs": []
    },
    {
      "cell_type": "code",
      "metadata": {
        "id": "I7QGILNtx18R",
        "colab": {
          "base_uri": "https://localhost:8080/"
        },
        "outputId": "601f2868-6a61-4cc2-b717-2c06d4bb1d42"
      },
      "source": [
        "!pip install ta"
      ],
      "execution_count": null,
      "outputs": [
        {
          "output_type": "stream",
          "name": "stdout",
          "text": [
            "Collecting ta\n",
            "  Downloading ta-0.7.0.tar.gz (25 kB)\n",
            "Requirement already satisfied: numpy in /usr/local/lib/python3.7/dist-packages (from ta) (1.19.5)\n",
            "Requirement already satisfied: pandas in /usr/local/lib/python3.7/dist-packages (from ta) (1.1.5)\n",
            "Requirement already satisfied: python-dateutil>=2.7.3 in /usr/local/lib/python3.7/dist-packages (from pandas->ta) (2.8.2)\n",
            "Requirement already satisfied: pytz>=2017.2 in /usr/local/lib/python3.7/dist-packages (from pandas->ta) (2018.9)\n",
            "Requirement already satisfied: six>=1.5 in /usr/local/lib/python3.7/dist-packages (from python-dateutil>=2.7.3->pandas->ta) (1.15.0)\n",
            "Building wheels for collected packages: ta\n",
            "  Building wheel for ta (setup.py) ... \u001b[?25l\u001b[?25hdone\n",
            "  Created wheel for ta: filename=ta-0.7.0-py3-none-any.whl size=28718 sha256=c4801444aec55a23b767e59d93c3498b5e6a0f08691ce7cc8a82c04a8a942cf4\n",
            "  Stored in directory: /root/.cache/pip/wheels/5e/74/e0/72395003bd1d3c8f3f5860c2d180ff15699e47a2733d8ebd38\n",
            "Successfully built ta\n",
            "Installing collected packages: ta\n",
            "Successfully installed ta-0.7.0\n"
          ]
        }
      ]
    },
    {
      "cell_type": "code",
      "metadata": {
        "id": "3KT32zsYxQLW",
        "colab": {
          "resources": {
            "http://localhost:8080/nbextensions/google.colab/files.js": {
              "data": "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",
              "ok": true,
              "headers": [
                [
                  "content-type",
                  "application/javascript"
                ]
              ],
              "status": 200,
              "status_text": ""
            }
          },
          "base_uri": "https://localhost:8080/",
          "height": 38
        },
        "outputId": "f05cd387-3cae-4d73-e769-551416c10e7d"
      },
      "source": [
        "from google.colab import files\n",
        "file = files.upload()"
      ],
      "execution_count": null,
      "outputs": [
        {
          "output_type": "display_data",
          "data": {
            "text/html": [
              "\n",
              "     <input type=\"file\" id=\"files-ebdc5f1f-b057-4bc3-9625-df6884dd0858\" name=\"files[]\" multiple disabled\n",
              "        style=\"border:none\" />\n",
              "     <output id=\"result-ebdc5f1f-b057-4bc3-9625-df6884dd0858\">\n",
              "      Upload widget is only available when the cell has been executed in the\n",
              "      current browser session. Please rerun this cell to enable.\n",
              "      </output>\n",
              "      <script src=\"/nbextensions/google.colab/files.js\"></script> "
            ],
            "text/plain": [
              "<IPython.core.display.HTML object>"
            ]
          },
          "metadata": {}
        }
      ]
    },
    {
      "cell_type": "code",
      "metadata": {
        "id": "37iKn_qDxedt",
        "colab": {
          "base_uri": "https://localhost:8080/",
          "height": 204
        },
        "outputId": "b65560ee-07bd-4d96-c7bd-00611d3d5eb6"
      },
      "source": [
        "df = pd.read_csv('GSPC.csv', parse_dates=True)\n",
        "df.head()"
      ],
      "execution_count": null,
      "outputs": [
        {
          "output_type": "execute_result",
          "data": {
            "text/html": [
              "<div>\n",
              "<style scoped>\n",
              "    .dataframe tbody tr th:only-of-type {\n",
              "        vertical-align: middle;\n",
              "    }\n",
              "\n",
              "    .dataframe tbody tr th {\n",
              "        vertical-align: top;\n",
              "    }\n",
              "\n",
              "    .dataframe thead th {\n",
              "        text-align: right;\n",
              "    }\n",
              "</style>\n",
              "<table border=\"1\" class=\"dataframe\">\n",
              "  <thead>\n",
              "    <tr style=\"text-align: right;\">\n",
              "      <th></th>\n",
              "      <th>Date</th>\n",
              "      <th>Open</th>\n",
              "      <th>High</th>\n",
              "      <th>Low</th>\n",
              "      <th>Close</th>\n",
              "      <th>Adj Close</th>\n",
              "      <th>Volume</th>\n",
              "    </tr>\n",
              "  </thead>\n",
              "  <tbody>\n",
              "    <tr>\n",
              "      <th>0</th>\n",
              "      <td>1984-01-03</td>\n",
              "      <td>164.929993</td>\n",
              "      <td>164.929993</td>\n",
              "      <td>163.979996</td>\n",
              "      <td>164.039993</td>\n",
              "      <td>164.039993</td>\n",
              "      <td>71340000</td>\n",
              "    </tr>\n",
              "    <tr>\n",
              "      <th>1</th>\n",
              "      <td>1984-01-04</td>\n",
              "      <td>164.089996</td>\n",
              "      <td>166.779999</td>\n",
              "      <td>164.039993</td>\n",
              "      <td>166.779999</td>\n",
              "      <td>166.779999</td>\n",
              "      <td>112980000</td>\n",
              "    </tr>\n",
              "    <tr>\n",
              "      <th>2</th>\n",
              "      <td>1984-01-05</td>\n",
              "      <td>166.779999</td>\n",
              "      <td>169.100006</td>\n",
              "      <td>166.779999</td>\n",
              "      <td>168.809998</td>\n",
              "      <td>168.809998</td>\n",
              "      <td>159990000</td>\n",
              "    </tr>\n",
              "    <tr>\n",
              "      <th>3</th>\n",
              "      <td>1984-01-06</td>\n",
              "      <td>168.809998</td>\n",
              "      <td>169.309998</td>\n",
              "      <td>168.490005</td>\n",
              "      <td>169.279999</td>\n",
              "      <td>169.279999</td>\n",
              "      <td>137590000</td>\n",
              "    </tr>\n",
              "    <tr>\n",
              "      <th>4</th>\n",
              "      <td>1984-01-09</td>\n",
              "      <td>169.179993</td>\n",
              "      <td>169.460007</td>\n",
              "      <td>168.479996</td>\n",
              "      <td>168.899994</td>\n",
              "      <td>168.899994</td>\n",
              "      <td>107100000</td>\n",
              "    </tr>\n",
              "  </tbody>\n",
              "</table>\n",
              "</div>"
            ],
            "text/plain": [
              "         Date        Open        High  ...       Close   Adj Close     Volume\n",
              "0  1984-01-03  164.929993  164.929993  ...  164.039993  164.039993   71340000\n",
              "1  1984-01-04  164.089996  166.779999  ...  166.779999  166.779999  112980000\n",
              "2  1984-01-05  166.779999  169.100006  ...  168.809998  168.809998  159990000\n",
              "3  1984-01-06  168.809998  169.309998  ...  169.279999  169.279999  137590000\n",
              "4  1984-01-09  169.179993  169.460007  ...  168.899994  168.899994  107100000\n",
              "\n",
              "[5 rows x 7 columns]"
            ]
          },
          "metadata": {
            "tags": []
          },
          "execution_count": 4
        }
      ]
    },
    {
      "cell_type": "code",
      "metadata": {
        "id": "Fe2kRhHsxv0j"
      },
      "source": [
        "# indicators\n",
        "import ta\n",
        " \n",
        "RSI = ta.momentum.RSIIndicator(df['Close'])\n",
        "df['RSI'] = RSI.rsi()\n",
        " \n",
        "StochOscil = ta.momentum.StochasticOscillator(df['High'], df['Low'], df['Close'])\n",
        "df['StochOscil'] = StochOscil.stoch()\n",
        "df['StochSignal'] = StochOscil.stoch_signal()\n",
        " \n",
        "df['ADX'] = ta.trend.adx(df['High'], df['Low'], df['Close'])\n",
        " \n",
        "df['MACD_DIFF'] = ta.trend.macd_diff(df['Close'])"
      ],
      "execution_count": null,
      "outputs": []
    },
    {
      "cell_type": "code",
      "metadata": {
        "id": "AHWU9QHOx7K_"
      },
      "source": [
        "df['Trend'] = 0\n",
        "for i in range(df.shape[0]-1):\n",
        "    if i == 0:\n",
        "        pass\n",
        "    else:\n",
        "        if df['Close'][i+1]>df['Close'][i]:\n",
        "            df['Trend'][i+1] = 1\n",
        "        else:\n",
        "            df['Trend'][i+1] = 0"
      ],
      "execution_count": null,
      "outputs": []
    },
    {
      "cell_type": "code",
      "metadata": {
        "id": "aTB63z7_x98W"
      },
      "source": [
        "df.dropna(inplace=True)\n",
        "df.drop(['Date','Adj Close'], axis=1, inplace=True)"
      ],
      "execution_count": null,
      "outputs": []
    },
    {
      "cell_type": "code",
      "metadata": {
        "id": "lR1GaFpyyAiZ",
        "colab": {
          "base_uri": "https://localhost:8080/",
          "height": 204
        },
        "outputId": "fd6e0469-7880-4b9a-c264-99f5fe7f6792"
      },
      "source": [
        "df.head()"
      ],
      "execution_count": null,
      "outputs": [
        {
          "output_type": "execute_result",
          "data": {
            "text/html": [
              "<div>\n",
              "<style scoped>\n",
              "    .dataframe tbody tr th:only-of-type {\n",
              "        vertical-align: middle;\n",
              "    }\n",
              "\n",
              "    .dataframe tbody tr th {\n",
              "        vertical-align: top;\n",
              "    }\n",
              "\n",
              "    .dataframe thead th {\n",
              "        text-align: right;\n",
              "    }\n",
              "</style>\n",
              "<table border=\"1\" class=\"dataframe\">\n",
              "  <thead>\n",
              "    <tr style=\"text-align: right;\">\n",
              "      <th></th>\n",
              "      <th>Open</th>\n",
              "      <th>High</th>\n",
              "      <th>Low</th>\n",
              "      <th>Close</th>\n",
              "      <th>Volume</th>\n",
              "      <th>RSI</th>\n",
              "      <th>StochOscil</th>\n",
              "      <th>StochSignal</th>\n",
              "      <th>ADX</th>\n",
              "      <th>MACD_DIFF</th>\n",
              "      <th>Trend</th>\n",
              "    </tr>\n",
              "  </thead>\n",
              "  <tbody>\n",
              "    <tr>\n",
              "      <th>33</th>\n",
              "      <td>156.130005</td>\n",
              "      <td>156.800003</td>\n",
              "      <td>155.509995</td>\n",
              "      <td>155.740005</td>\n",
              "      <td>76600000</td>\n",
              "      <td>30.035623</td>\n",
              "      <td>16.312065</td>\n",
              "      <td>18.467076</td>\n",
              "      <td>30.448951</td>\n",
              "      <td>-0.221955</td>\n",
              "      <td>0</td>\n",
              "    </tr>\n",
              "    <tr>\n",
              "      <th>34</th>\n",
              "      <td>155.710007</td>\n",
              "      <td>155.740005</td>\n",
              "      <td>154.470001</td>\n",
              "      <td>154.639999</td>\n",
              "      <td>71890000</td>\n",
              "      <td>27.413388</td>\n",
              "      <td>5.167115</td>\n",
              "      <td>13.484842</td>\n",
              "      <td>31.528342</td>\n",
              "      <td>-0.214853</td>\n",
              "      <td>0</td>\n",
              "    </tr>\n",
              "    <tr>\n",
              "      <th>35</th>\n",
              "      <td>154.520004</td>\n",
              "      <td>155.100006</td>\n",
              "      <td>153.940002</td>\n",
              "      <td>154.309998</td>\n",
              "      <td>90080000</td>\n",
              "      <td>26.661379</td>\n",
              "      <td>3.685221</td>\n",
              "      <td>8.388134</td>\n",
              "      <td>32.713744</td>\n",
              "      <td>-0.198183</td>\n",
              "      <td>0</td>\n",
              "    </tr>\n",
              "    <tr>\n",
              "      <th>36</th>\n",
              "      <td>154.020004</td>\n",
              "      <td>154.449997</td>\n",
              "      <td>152.130005</td>\n",
              "      <td>154.289993</td>\n",
              "      <td>100220000</td>\n",
              "      <td>26.613717</td>\n",
              "      <td>18.227761</td>\n",
              "      <td>9.026699</td>\n",
              "      <td>34.361470</td>\n",
              "      <td>-0.156155</td>\n",
              "      <td>0</td>\n",
              "    </tr>\n",
              "    <tr>\n",
              "      <th>37</th>\n",
              "      <td>154.309998</td>\n",
              "      <td>157.509995</td>\n",
              "      <td>154.289993</td>\n",
              "      <td>157.509995</td>\n",
              "      <td>102620000</td>\n",
              "      <td>43.974788</td>\n",
              "      <td>61.275520</td>\n",
              "      <td>27.729501</td>\n",
              "      <td>33.534386</td>\n",
              "      <td>0.106690</td>\n",
              "      <td>1</td>\n",
              "    </tr>\n",
              "  </tbody>\n",
              "</table>\n",
              "</div>"
            ],
            "text/plain": [
              "          Open        High         Low  ...        ADX  MACD_DIFF  Trend\n",
              "33  156.130005  156.800003  155.509995  ...  30.448951  -0.221955      0\n",
              "34  155.710007  155.740005  154.470001  ...  31.528342  -0.214853      0\n",
              "35  154.520004  155.100006  153.940002  ...  32.713744  -0.198183      0\n",
              "36  154.020004  154.449997  152.130005  ...  34.361470  -0.156155      0\n",
              "37  154.309998  157.509995  154.289993  ...  33.534386   0.106690      1\n",
              "\n",
              "[5 rows x 11 columns]"
            ]
          },
          "metadata": {
            "tags": []
          },
          "execution_count": 8
        }
      ]
    },
    {
      "cell_type": "code",
      "metadata": {
        "id": "sULuFbe1yCAY"
      },
      "source": [
        "from sklearn.preprocessing import MinMaxScaler\n",
        "\n",
        "min_max_scaler = MinMaxScaler(feature_range=(-1,1))\n",
        "X = min_max_scaler.fit_transform(df.drop('Trend', axis=1))\n",
        "# print(X.shape)\n",
        "y = df[[\"Trend\"]]\n",
        "# print(y.shape)"
      ],
      "execution_count": null,
      "outputs": []
    },
    {
      "cell_type": "code",
      "metadata": {
        "id": "Q_EwPxy2zUF0"
      },
      "source": [
        "X_train = X[:6329]\n",
        "X_test = X[6329:]\n",
        "\n",
        "target_train = y[:6329]\n",
        "target_test = y[6329:]"
      ],
      "execution_count": null,
      "outputs": []
    },
    {
      "cell_type": "code",
      "metadata": {
        "id": "QayoXGuT0NBW"
      },
      "source": [
        "def one_hot_encode(labels):\n",
        "  n_labels = len(labels)\n",
        "  n_unique_labels = len(np.unique(labels))\n",
        "  one_hot_encode = np.zeros((n_labels, n_unique_labels))\n",
        "  one_hot_encode[np.arange(n_labels), labels] = 1\n",
        "  return one_hot_encode"
      ],
      "execution_count": null,
      "outputs": []
    },
    {
      "cell_type": "code",
      "metadata": {
        "id": "N8yJSaWA3PYt"
      },
      "source": [
        "encoder = LabelEncoder()\n",
        "encoder.fit(target_train)\n",
        "y_train = encoder.transform(target_train)\n",
        "y_train = one_hot_encode(y_train)\n",
        "\n",
        "encoder = LabelEncoder()\n",
        "encoder.fit(target_test)\n",
        "y_test = encoder.transform(target_test)\n",
        "y_test = one_hot_encode(y_test)\n"
      ],
      "execution_count": null,
      "outputs": []
    },
    {
      "cell_type": "code",
      "metadata": {
        "id": "Vq5ruYiZ3nuF",
        "colab": {
          "base_uri": "https://localhost:8080/",
          "height": 34
        },
        "outputId": "febf07af-cc15-4f4d-84aa-7e014eb5cd0d"
      },
      "source": [
        "X_train.shape, X_test.shape, y_train.shape, y_test.shape, target_train.shape, target_test.shape"
      ],
      "execution_count": null,
      "outputs": [
        {
          "output_type": "execute_result",
          "data": {
            "text/plain": [
              "((6329, 10), (2712, 10), (6329, 2), (2712, 2), (6329, 1), (2712, 1))"
            ]
          },
          "metadata": {
            "tags": []
          },
          "execution_count": 13
        }
      ]
    },
    {
      "cell_type": "code",
      "metadata": {
        "id": "q8ulQixT5FaH"
      },
      "source": [
        "learning_rate = 0.1\n",
        "training_epochs = 300\n",
        "cost_history = np.empty(shape=[1],dtype=float)\n",
        "n_dim = X.shape[1]\n",
        "n_class = 2"
      ],
      "execution_count": null,
      "outputs": []
    },
    {
      "cell_type": "code",
      "metadata": {
        "id": "B_564Ytf5h6A"
      },
      "source": [
        "n_hidden_1 = 300\n",
        "n_hidden_2 = 200\n",
        "n_hidden_3 = 100\n",
        "n_hidden_4 = 50\n"
      ],
      "execution_count": null,
      "outputs": []
    },
    {
      "cell_type": "code",
      "metadata": {
        "id": "AXdcK9Mq7C6v"
      },
      "source": [
        "tf.compat.v1.disable_eager_execution()"
      ],
      "execution_count": null,
      "outputs": []
    },
    {
      "cell_type": "code",
      "metadata": {
        "id": "We28y5vX6Dqh",
        "colab": {
          "base_uri": "https://localhost:8080/",
          "height": 88
        },
        "outputId": "a042212c-78f8-41b9-e6ca-06e2ba6c254c"
      },
      "source": [
        "x = tf.placeholder(tf.float32, [None,n_dim])\n",
        "w = tf.Variable(tf.zeros([n_dim, n_class]))\n",
        "b = tf.Variable(tf.zeros(n_class))\n",
        "y_ = tf.placeholder(tf.float32, [None,n_class])"
      ],
      "execution_count": null,
      "outputs": [
        {
          "output_type": "stream",
          "text": [
            "WARNING:tensorflow:From /usr/local/lib/python3.6/dist-packages/tensorflow/python/ops/resource_variable_ops.py:1666: calling BaseResourceVariable.__init__ (from tensorflow.python.ops.resource_variable_ops) with constraint is deprecated and will be removed in a future version.\n",
            "Instructions for updating:\n",
            "If using Keras pass *_constraint arguments to layers.\n"
          ],
          "name": "stdout"
        }
      ]
    },
    {
      "cell_type": "code",
      "metadata": {
        "id": "OwPhha4W6yxM"
      },
      "source": [
        "def multilayer_perceptron(x, weights, biases):\n",
        "  layer_1 = tf.add(tf.matmul(x, weights['h1']), biases['b1'])\n",
        "  layer_1 = tf.nn.relu(layer_1)\n",
        "\n",
        "  layer_2 = tf.add(tf.matmul(layer_1, weights['h2']), biases['b2'])\n",
        "  layer_2 = tf.nn.relu(layer_2)\n",
        "\n",
        "  layer_3 = tf.add(tf.matmul(layer_2, weights['h3']), biases['b3'])\n",
        "  layer_3 = tf.nn.sigmoid(layer_3)\n",
        "\n",
        "  layer_4 = tf.add(tf.matmul(layer_3, weights['h4']), biases['b4'])\n",
        "  layer_4 = tf.nn.sigmoid(layer_4)\n",
        "\n",
        "  out_layer = tf.matmul(layer_4, weights['out'])+biases['out']\n",
        "  return out_layer  "
      ],
      "execution_count": null,
      "outputs": []
    },
    {
      "cell_type": "code",
      "metadata": {
        "id": "1-6ONepx8NM_"
      },
      "source": [
        "weights = {\n",
        "    'h1': tf.Variable(tf.truncated_normal([n_dim, n_hidden_1])),\n",
        "    'h2': tf.Variable(tf.truncated_normal([n_hidden_1, n_hidden_2])),\n",
        "    'h3': tf.Variable(tf.truncated_normal([n_hidden_2, n_hidden_3])),\n",
        "    'h4': tf.Variable(tf.truncated_normal([n_hidden_3, n_hidden_4])),\n",
        "    'out': tf.Variable(tf.truncated_normal([n_hidden_4, n_class]))\n",
        "} \n",
        "\n",
        "biases = {\n",
        "    'b1': tf.Variable(tf.truncated_normal([n_hidden_1])),\n",
        "    'b2': tf.Variable(tf.truncated_normal([n_hidden_2])),\n",
        "    'b3': tf.Variable(tf.truncated_normal([n_hidden_3])),\n",
        "    'b4': tf.Variable(tf.truncated_normal([n_hidden_4])),\n",
        "    'out': tf.Variable(tf.truncated_normal([n_class]))\n",
        "}"
      ],
      "execution_count": null,
      "outputs": []
    },
    {
      "cell_type": "code",
      "metadata": {
        "id": "DT0026GC9Vcu"
      },
      "source": [
        "init = tf.global_variables_initializer()\n",
        "saver = tf.train.Saver()\n",
        "\n",
        "y = multilayer_perceptron(x, weights, biases)"
      ],
      "execution_count": null,
      "outputs": []
    },
    {
      "cell_type": "code",
      "metadata": {
        "id": "SY1AbtWA9tht"
      },
      "source": [
        "cost_function = tf.reduce_mean(tf.nn.sigmoid_cross_entropy_with_logits(logits=y, labels=y_))\n",
        "training_step = tf.train.GradientDescentOptimizer(learning_rate).minimize(cost_function)"
      ],
      "execution_count": null,
      "outputs": []
    },
    {
      "cell_type": "code",
      "metadata": {
        "id": "WKl4vH7v-QHq"
      },
      "source": [
        "sess = tf.Session()\n",
        "sess.run(init)"
      ],
      "execution_count": null,
      "outputs": []
    },
    {
      "cell_type": "code",
      "metadata": {
        "id": "JftQNVMS-Wag",
        "colab": {
          "base_uri": "https://localhost:8080/",
          "height": 1000
        },
        "outputId": "c4983003-e3ea-46a6-8620-bb7b3e83e35e"
      },
      "source": [
        "mse_history = []\n",
        "accuracy_history = []\n",
        "train_accuracy_history =[]\n",
        "\n",
        "for epoch in range(training_epochs):\n",
        "  sess.run(training_step, feed_dict={x: X_train, y_: y_train})\n",
        "  cost = sess.run(cost_function, feed_dict={x: X_train, y_: y_train})\n",
        "  cost_history = np.append(cost_history, cost)\n",
        "  correct_prediction = tf.equal(tf.argmax(y,1), tf.argmax(y_,1))\n",
        "  # correct_prediction_.append(correct_prediction)\n",
        "  accuracy = tf.reduce_mean(tf.cast(correct_prediction, tf.float32))\n",
        "\n",
        "  pred_y = sess.run(y, feed_dict={x: X_test})\n",
        "  mse = tf.reduce_mean(tf.square(pred_y - y_test))\n",
        "  mse_ = sess.run(mse)\n",
        "  mse_history.append(mse_)\n",
        "\n",
        "  train_accuracy = (sess.run(accuracy, feed_dict={x: X_test, y_: y_test}))\n",
        "  train_accuracy_history.append(train_accuracy)\n",
        "\n",
        "  accuracy = (sess.run(accuracy, feed_dict={x: X_train, y_: y_train}))\n",
        "  accuracy_history.append(accuracy)\n",
        "  print('epoch: ',epoch, '-', 'cost: ',cost, '- MSE: ',mse_, '- Val Accuracy: ',train_accuracy)"
      ],
      "execution_count": null,
      "outputs": [
        {
          "output_type": "stream",
          "text": [
            "epoch:  0 - cost:  1.0528566 - MSE:  5.656008257043014 - Val Accuracy:  0.45427728\n",
            "epoch:  1 - cost:  0.97215784 - MSE:  4.875536180695957 - Val Accuracy:  0.4741888\n",
            "epoch:  2 - cost:  0.9219841 - MSE:  4.459901514608899 - Val Accuracy:  0.49151918\n",
            "epoch:  3 - cost:  0.8771994 - MSE:  4.197245110347318 - Val Accuracy:  0.5036873\n",
            "epoch:  4 - cost:  0.8406085 - MSE:  4.031267658346456 - Val Accuracy:  0.5143805\n",
            "epoch:  5 - cost:  0.8091053 - MSE:  3.8978814636495525 - Val Accuracy:  0.5221239\n",
            "epoch:  6 - cost:  0.7818885 - MSE:  3.780315851848107 - Val Accuracy:  0.5287611\n",
            "epoch:  7 - cost:  0.7581414 - MSE:  3.6910621635147867 - Val Accuracy:  0.5243363\n",
            "epoch:  8 - cost:  0.7405158 - MSE:  3.612632854497862 - Val Accuracy:  0.5283923\n",
            "epoch:  9 - cost:  0.7256685 - MSE:  3.539617205988827 - Val Accuracy:  0.5265487\n",
            "epoch:  10 - cost:  0.71655786 - MSE:  3.4681856772568636 - Val Accuracy:  0.5291298\n",
            "epoch:  11 - cost:  0.71076626 - MSE:  3.409031755122042 - Val Accuracy:  0.53097343\n",
            "epoch:  12 - cost:  0.7052289 - MSE:  3.3410864631049075 - Val Accuracy:  0.5339233\n",
            "epoch:  13 - cost:  0.6895011 - MSE:  3.3159873769223305 - Val Accuracy:  0.53097343\n",
            "epoch:  14 - cost:  0.6787096 - MSE:  3.2475508447722494 - Val Accuracy:  0.53650445\n",
            "epoch:  15 - cost:  0.6780413 - MSE:  3.231050090013082 - Val Accuracy:  0.53429204\n",
            "epoch:  16 - cost:  0.67298794 - MSE:  3.1631363615825543 - Val Accuracy:  0.5361357\n",
            "epoch:  17 - cost:  0.65990263 - MSE:  3.1632737129624116 - Val Accuracy:  0.5387168\n",
            "epoch:  18 - cost:  0.6547379 - MSE:  3.0985193498890795 - Val Accuracy:  0.5394543\n",
            "epoch:  19 - cost:  0.64702886 - MSE:  3.093639328483965 - Val Accuracy:  0.5409292\n",
            "epoch:  20 - cost:  0.6416719 - MSE:  3.030230547627662 - Val Accuracy:  0.5427729\n",
            "epoch:  21 - cost:  0.64087707 - MSE:  3.027407638350812 - Val Accuracy:  0.54387903\n",
            "epoch:  22 - cost:  0.6385888 - MSE:  2.9693570398621585 - Val Accuracy:  0.54719764\n",
            "epoch:  23 - cost:  0.62996083 - MSE:  2.9749368782488688 - Val Accuracy:  0.54941005\n",
            "epoch:  24 - cost:  0.6262251 - MSE:  2.9262767169701807 - Val Accuracy:  0.5490413\n",
            "epoch:  25 - cost:  0.6201682 - MSE:  2.93261121720231 - Val Accuracy:  0.5516224\n",
            "epoch:  26 - cost:  0.6141471 - MSE:  2.8904512380687843 - Val Accuracy:  0.55088496\n",
            "epoch:  27 - cost:  0.611851 - MSE:  2.9002045387210664 - Val Accuracy:  0.5527286\n",
            "epoch:  28 - cost:  0.60762703 - MSE:  2.8617772814240103 - Val Accuracy:  0.5545723\n",
            "epoch:  29 - cost:  0.6075063 - MSE:  2.8728697102098697 - Val Accuracy:  0.554941\n",
            "epoch:  30 - cost:  0.6028985 - MSE:  2.8363216024672173 - Val Accuracy:  0.5575221\n",
            "epoch:  31 - cost:  0.6053129 - MSE:  2.8484309121889 - Val Accuracy:  0.5560472\n",
            "epoch:  32 - cost:  0.60513794 - MSE:  2.813407466626422 - Val Accuracy:  0.5575221\n",
            "epoch:  33 - cost:  0.6011496 - MSE:  2.8284221204447437 - Val Accuracy:  0.56157815\n",
            "epoch:  34 - cost:  0.5968031 - MSE:  2.7921250829017223 - Val Accuracy:  0.56157815\n",
            "epoch:  35 - cost:  0.5917473 - MSE:  2.811212397976304 - Val Accuracy:  0.56157815\n",
            "epoch:  36 - cost:  0.58088493 - MSE:  2.778257711460656 - Val Accuracy:  0.56157815\n",
            "epoch:  37 - cost:  0.58413213 - MSE:  2.7900506001563103 - Val Accuracy:  0.5641593\n",
            "epoch:  38 - cost:  0.57392645 - MSE:  2.765927369666484 - Val Accuracy:  0.56268436\n",
            "epoch:  39 - cost:  0.57720196 - MSE:  2.773967305925377 - Val Accuracy:  0.5652655\n",
            "epoch:  40 - cost:  0.567163 - MSE:  2.7518233196354593 - Val Accuracy:  0.5652655\n",
            "epoch:  41 - cost:  0.56856465 - MSE:  2.7619295407867144 - Val Accuracy:  0.5674779\n",
            "epoch:  42 - cost:  0.56140345 - MSE:  2.744500120591867 - Val Accuracy:  0.5667404\n",
            "epoch:  43 - cost:  0.56618226 - MSE:  2.7563038053333435 - Val Accuracy:  0.5667404\n",
            "epoch:  44 - cost:  0.5614354 - MSE:  2.738488125708388 - Val Accuracy:  0.5674779\n",
            "epoch:  45 - cost:  0.56854045 - MSE:  2.754160336322615 - Val Accuracy:  0.5682153\n",
            "epoch:  46 - cost:  0.55079114 - MSE:  2.731820742943039 - Val Accuracy:  0.5689528\n",
            "epoch:  47 - cost:  0.5468963 - MSE:  2.730346259360219 - Val Accuracy:  0.5667404\n",
            "epoch:  48 - cost:  0.5453281 - MSE:  2.723414480284859 - Val Accuracy:  0.56600296\n",
            "epoch:  49 - cost:  0.54684097 - MSE:  2.7343939644838775 - Val Accuracy:  0.56710917\n",
            "epoch:  50 - cost:  0.5453815 - MSE:  2.7208769415791303 - Val Accuracy:  0.5663717\n",
            "epoch:  51 - cost:  0.55481917 - MSE:  2.7347212021002947 - Val Accuracy:  0.5696903\n",
            "epoch:  52 - cost:  0.5385744 - MSE:  2.7114206502136495 - Val Accuracy:  0.5682153\n",
            "epoch:  53 - cost:  0.5349151 - MSE:  2.7134207696760373 - Val Accuracy:  0.5682153\n",
            "epoch:  54 - cost:  0.53221494 - MSE:  2.706782037956789 - Val Accuracy:  0.5689528\n",
            "epoch:  55 - cost:  0.5300098 - MSE:  2.7070072636560516 - Val Accuracy:  0.570059\n",
            "epoch:  56 - cost:  0.5278879 - MSE:  2.706596549410835 - Val Accuracy:  0.5689528\n",
            "epoch:  57 - cost:  0.52592784 - MSE:  2.703417401144901 - Val Accuracy:  0.5707965\n",
            "epoch:  58 - cost:  0.5242934 - MSE:  2.7022468951710374 - Val Accuracy:  0.5707965\n",
            "epoch:  59 - cost:  0.52274865 - MSE:  2.69997919964181 - Val Accuracy:  0.57300884\n",
            "epoch:  60 - cost:  0.5215514 - MSE:  2.697433495470296 - Val Accuracy:  0.57190263\n",
            "epoch:  61 - cost:  0.5211913 - MSE:  2.69813581541355 - Val Accuracy:  0.5733776\n",
            "epoch:  62 - cost:  0.5219561 - MSE:  2.691341988704723 - Val Accuracy:  0.57300884\n",
            "epoch:  63 - cost:  0.52404034 - MSE:  2.7029066155449732 - Val Accuracy:  0.5726401\n",
            "epoch:  64 - cost:  0.52742314 - MSE:  2.6813895253582283 - Val Accuracy:  0.5707965\n",
            "epoch:  65 - cost:  0.5343566 - MSE:  2.7065397569711056 - Val Accuracy:  0.5759587\n",
            "epoch:  66 - cost:  0.51784825 - MSE:  2.6813099926255184 - Val Accuracy:  0.5733776\n",
            "epoch:  67 - cost:  0.5174631 - MSE:  2.6886724194330585 - Val Accuracy:  0.5781711\n",
            "epoch:  68 - cost:  0.5176741 - MSE:  2.6695842723540855 - Val Accuracy:  0.57743365\n",
            "epoch:  69 - cost:  0.52482575 - MSE:  2.6876482187197843 - Val Accuracy:  0.5770649\n",
            "epoch:  70 - cost:  0.51432693 - MSE:  2.6726018911952223 - Val Accuracy:  0.57632744\n",
            "epoch:  71 - cost:  0.5122855 - MSE:  2.680701699567257 - Val Accuracy:  0.58001477\n",
            "epoch:  72 - cost:  0.51275295 - MSE:  2.6668359300438635 - Val Accuracy:  0.57743365\n",
            "epoch:  73 - cost:  0.5179977 - MSE:  2.6860368172374955 - Val Accuracy:  0.5781711\n",
            "epoch:  74 - cost:  0.5182334 - MSE:  2.667139844111758 - Val Accuracy:  0.57780236\n",
            "epoch:  75 - cost:  0.5242073 - MSE:  2.6951590915975046 - Val Accuracy:  0.5807522\n",
            "epoch:  76 - cost:  0.5084564 - MSE:  2.67232155808755 - Val Accuracy:  0.5844395\n",
            "epoch:  77 - cost:  0.5093821 - MSE:  2.680480482120446 - Val Accuracy:  0.5833333\n",
            "epoch:  78 - cost:  0.5078189 - MSE:  2.6593531174370213 - Val Accuracy:  0.5829646\n",
            "epoch:  79 - cost:  0.5093795 - MSE:  2.6790802003854197 - Val Accuracy:  0.5829646\n",
            "epoch:  80 - cost:  0.5096631 - MSE:  2.6588386072537746 - Val Accuracy:  0.5840708\n",
            "epoch:  81 - cost:  0.5143154 - MSE:  2.6866568339622083 - Val Accuracy:  0.58480823\n",
            "epoch:  82 - cost:  0.50072724 - MSE:  2.663278232195129 - Val Accuracy:  0.5877581\n",
            "epoch:  83 - cost:  0.50052714 - MSE:  2.6708555421116893 - Val Accuracy:  0.5840708\n",
            "epoch:  84 - cost:  0.49986184 - MSE:  2.6529308273038468 - Val Accuracy:  0.5888643\n",
            "epoch:  85 - cost:  0.4976134 - MSE:  2.6672704891070835 - Val Accuracy:  0.5844395\n",
            "epoch:  86 - cost:  0.4978785 - MSE:  2.6544548496250733 - Val Accuracy:  0.5888643\n",
            "epoch:  87 - cost:  0.49472156 - MSE:  2.6691857650041175 - Val Accuracy:  0.5844395\n",
            "epoch:  88 - cost:  0.49578267 - MSE:  2.6533437361103447 - Val Accuracy:  0.5888643\n",
            "epoch:  89 - cost:  0.49637654 - MSE:  2.6726057233941267 - Val Accuracy:  0.5855457\n",
            "epoch:  90 - cost:  0.5025124 - MSE:  2.647904087171903 - Val Accuracy:  0.5921829\n",
            "epoch:  91 - cost:  0.5046956 - MSE:  2.6834856984756423 - Val Accuracy:  0.58960176\n",
            "epoch:  92 - cost:  0.4942614 - MSE:  2.656666519719694 - Val Accuracy:  0.5943953\n",
            "epoch:  93 - cost:  0.49827015 - MSE:  2.6710946268369593 - Val Accuracy:  0.58849555\n",
            "epoch:  94 - cost:  0.48904228 - MSE:  2.64737734093374 - Val Accuracy:  0.5958702\n",
            "epoch:  95 - cost:  0.4955084 - MSE:  2.659014842283062 - Val Accuracy:  0.59181416\n",
            "epoch:  96 - cost:  0.48633793 - MSE:  2.643868301213341 - Val Accuracy:  0.5984513\n",
            "epoch:  97 - cost:  0.48588976 - MSE:  2.6504729642825273 - Val Accuracy:  0.59255165\n",
            "epoch:  98 - cost:  0.48734626 - MSE:  2.6412833386196866 - Val Accuracy:  0.594764\n",
            "epoch:  99 - cost:  0.48361468 - MSE:  2.6520377223363663 - Val Accuracy:  0.59181416\n",
            "epoch:  100 - cost:  0.48649532 - MSE:  2.6456866726667068 - Val Accuracy:  0.594764\n",
            "epoch:  101 - cost:  0.48408106 - MSE:  2.661460312524613 - Val Accuracy:  0.59181416\n",
            "epoch:  102 - cost:  0.4870928 - MSE:  2.6478557022275506 - Val Accuracy:  0.5969764\n",
            "epoch:  103 - cost:  0.48905116 - MSE:  2.6694231817173226 - Val Accuracy:  0.5921829\n",
            "epoch:  104 - cost:  0.4916213 - MSE:  2.6461487410724254 - Val Accuracy:  0.59882003\n",
            "epoch:  105 - cost:  0.49391434 - MSE:  2.6758413743103673 - Val Accuracy:  0.59144545\n",
            "epoch:  106 - cost:  0.48847437 - MSE:  2.650689504292151 - Val Accuracy:  0.5977139\n",
            "epoch:  107 - cost:  0.48531592 - MSE:  2.6670117280823633 - Val Accuracy:  0.5910767\n",
            "epoch:  108 - cost:  0.485818 - MSE:  2.6459984784379738 - Val Accuracy:  0.59882003\n",
            "epoch:  109 - cost:  0.4871521 - MSE:  2.6671565059858344 - Val Accuracy:  0.59513277\n",
            "epoch:  110 - cost:  0.4832426 - MSE:  2.650518194206457 - Val Accuracy:  0.5995575\n",
            "epoch:  111 - cost:  0.47821528 - MSE:  2.660373527307023 - Val Accuracy:  0.59292036\n",
            "epoch:  112 - cost:  0.47571898 - MSE:  2.645954231336975 - Val Accuracy:  0.6006637\n",
            "epoch:  113 - cost:  0.4714171 - MSE:  2.652621710992936 - Val Accuracy:  0.5969764\n",
            "epoch:  114 - cost:  0.47523206 - MSE:  2.6452093130456587 - Val Accuracy:  0.59992623\n",
            "epoch:  115 - cost:  0.47407147 - MSE:  2.658551206586102 - Val Accuracy:  0.5980826\n",
            "epoch:  116 - cost:  0.4751258 - MSE:  2.6508742282283113 - Val Accuracy:  0.6006637\n",
            "epoch:  117 - cost:  0.46983433 - MSE:  2.6590430272029772 - Val Accuracy:  0.5969764\n",
            "epoch:  118 - cost:  0.4749861 - MSE:  2.6496736981787383 - Val Accuracy:  0.60103244\n",
            "epoch:  119 - cost:  0.47604397 - MSE:  2.666221253523729 - Val Accuracy:  0.5977139\n",
            "epoch:  120 - cost:  0.47918084 - MSE:  2.6542175136024313 - Val Accuracy:  0.60471976\n",
            "epoch:  121 - cost:  0.4853939 - MSE:  2.6733262463898324 - Val Accuracy:  0.5962389\n",
            "epoch:  122 - cost:  0.48021585 - MSE:  2.660046834443851 - Val Accuracy:  0.6050885\n",
            "epoch:  123 - cost:  0.4772084 - MSE:  2.6612799171488417 - Val Accuracy:  0.5980826\n",
            "epoch:  124 - cost:  0.47740528 - MSE:  2.6498681365971164 - Val Accuracy:  0.60693216\n",
            "epoch:  125 - cost:  0.4873909 - MSE:  2.659332121911075 - Val Accuracy:  0.59882003\n",
            "epoch:  126 - cost:  0.4700272 - MSE:  2.6680441640166266 - Val Accuracy:  0.60582596\n",
            "epoch:  127 - cost:  0.46502668 - MSE:  2.644645815297122 - Val Accuracy:  0.60656345\n",
            "epoch:  128 - cost:  0.46674135 - MSE:  2.6428265974914504 - Val Accuracy:  0.60693216\n",
            "epoch:  129 - cost:  0.4612609 - MSE:  2.643156680743706 - Val Accuracy:  0.60361356\n",
            "epoch:  130 - cost:  0.46627212 - MSE:  2.6462985588248733 - Val Accuracy:  0.6050885\n",
            "epoch:  131 - cost:  0.46192542 - MSE:  2.6471073374156946 - Val Accuracy:  0.60435104\n",
            "epoch:  132 - cost:  0.46797642 - MSE:  2.649404348906736 - Val Accuracy:  0.60693216\n",
            "epoch:  133 - cost:  0.46714032 - MSE:  2.652911367693841 - Val Accuracy:  0.60250735\n",
            "epoch:  134 - cost:  0.47448564 - MSE:  2.6507749719907387 - Val Accuracy:  0.60656345\n",
            "epoch:  135 - cost:  0.48203388 - MSE:  2.66302219846334 - Val Accuracy:  0.6028761\n",
            "epoch:  136 - cost:  0.46772838 - MSE:  2.6725964641242554 - Val Accuracy:  0.6106195\n",
            "epoch:  137 - cost:  0.47379044 - MSE:  2.64859726354835 - Val Accuracy:  0.60693216\n",
            "epoch:  138 - cost:  0.4625375 - MSE:  2.6638881892369533 - Val Accuracy:  0.6117257\n",
            "epoch:  139 - cost:  0.46627456 - MSE:  2.645776871900736 - Val Accuracy:  0.6095133\n",
            "epoch:  140 - cost:  0.46234092 - MSE:  2.663418550119092 - Val Accuracy:  0.6135693\n",
            "epoch:  141 - cost:  0.4680849 - MSE:  2.64737657812722 - Val Accuracy:  0.6087758\n",
            "epoch:  142 - cost:  0.46111622 - MSE:  2.6695469937128062 - Val Accuracy:  0.61393803\n",
            "epoch:  143 - cost:  0.45788768 - MSE:  2.649994005239099 - Val Accuracy:  0.6106195\n",
            "epoch:  144 - cost:  0.45791322 - MSE:  2.6588501366861386 - Val Accuracy:  0.6120944\n",
            "epoch:  145 - cost:  0.46565273 - MSE:  2.6522100656136667 - Val Accuracy:  0.6109882\n",
            "epoch:  146 - cost:  0.45911407 - MSE:  2.6793664831072213 - Val Accuracy:  0.61393803\n",
            "epoch:  147 - cost:  0.4597935 - MSE:  2.6565380706221515 - Val Accuracy:  0.6102507\n",
            "epoch:  148 - cost:  0.4598509 - MSE:  2.6706899932227373 - Val Accuracy:  0.6146755\n",
            "epoch:  149 - cost:  0.4667576 - MSE:  2.6607289744833764 - Val Accuracy:  0.6087758\n",
            "epoch:  150 - cost:  0.46026468 - MSE:  2.6862147321069054 - Val Accuracy:  0.61615044\n",
            "epoch:  151 - cost:  0.46161357 - MSE:  2.6622847191909758 - Val Accuracy:  0.6102507\n",
            "epoch:  152 - cost:  0.45460743 - MSE:  2.68155674038358 - Val Accuracy:  0.6146755\n",
            "epoch:  153 - cost:  0.4541089 - MSE:  2.6660056499044114 - Val Accuracy:  0.6102507\n",
            "epoch:  154 - cost:  0.45235875 - MSE:  2.6772078432898034 - Val Accuracy:  0.61504424\n",
            "epoch:  155 - cost:  0.46093124 - MSE:  2.671638226566828 - Val Accuracy:  0.6095133\n",
            "epoch:  156 - cost:  0.45701358 - MSE:  2.6958089531177416 - Val Accuracy:  0.61651915\n",
            "epoch:  157 - cost:  0.45823815 - MSE:  2.6770936733984794 - Val Accuracy:  0.609882\n",
            "epoch:  158 - cost:  0.4537188 - MSE:  2.688863378823573 - Val Accuracy:  0.61725664\n",
            "epoch:  159 - cost:  0.4645114 - MSE:  2.674496020057014 - Val Accuracy:  0.6102507\n",
            "epoch:  160 - cost:  0.4593564 - MSE:  2.705685694280479 - Val Accuracy:  0.6168879\n",
            "epoch:  161 - cost:  0.46465045 - MSE:  2.677228630267311 - Val Accuracy:  0.609882\n",
            "epoch:  162 - cost:  0.45586783 - MSE:  2.7076494646009905 - Val Accuracy:  0.61873156\n",
            "epoch:  163 - cost:  0.46127728 - MSE:  2.6765478848344855 - Val Accuracy:  0.6106195\n",
            "epoch:  164 - cost:  0.45183134 - MSE:  2.705954294305041 - Val Accuracy:  0.61873156\n",
            "epoch:  165 - cost:  0.44954154 - MSE:  2.6863901812881004 - Val Accuracy:  0.6113569\n",
            "epoch:  166 - cost:  0.44611478 - MSE:  2.6987730774660332 - Val Accuracy:  0.61762536\n",
            "epoch:  167 - cost:  0.44192597 - MSE:  2.696943026805181 - Val Accuracy:  0.6135693\n",
            "epoch:  168 - cost:  0.44771758 - MSE:  2.7000564358873524 - Val Accuracy:  0.61615044\n",
            "epoch:  169 - cost:  0.44818047 - MSE:  2.7087277667037313 - Val Accuracy:  0.6084071\n",
            "epoch:  170 - cost:  0.45003724 - MSE:  2.726411510318904 - Val Accuracy:  0.6157817\n",
            "epoch:  171 - cost:  0.46140262 - MSE:  2.719818929450581 - Val Accuracy:  0.60656345\n",
            "epoch:  172 - cost:  0.45859176 - MSE:  2.738263388124679 - Val Accuracy:  0.61983776\n",
            "epoch:  173 - cost:  0.47003016 - MSE:  2.713139866491772 - Val Accuracy:  0.6117257\n",
            "epoch:  174 - cost:  0.45337513 - MSE:  2.7424144216863153 - Val Accuracy:  0.6224189\n",
            "epoch:  175 - cost:  0.4416462 - MSE:  2.709217481360507 - Val Accuracy:  0.61504424\n",
            "epoch:  176 - cost:  0.44019756 - MSE:  2.7107646548201334 - Val Accuracy:  0.6191003\n",
            "epoch:  177 - cost:  0.4438772 - MSE:  2.717731589541455 - Val Accuracy:  0.6132006\n",
            "epoch:  178 - cost:  0.44286576 - MSE:  2.7330966396692684 - Val Accuracy:  0.62057525\n",
            "epoch:  179 - cost:  0.45290658 - MSE:  2.7265632096466854 - Val Accuracy:  0.6124631\n",
            "epoch:  180 - cost:  0.4497193 - MSE:  2.742556010037366 - Val Accuracy:  0.62205017\n",
            "epoch:  181 - cost:  0.4523821 - MSE:  2.7298056891303872 - Val Accuracy:  0.61283183\n",
            "epoch:  182 - cost:  0.44468388 - MSE:  2.7393568934255117 - Val Accuracy:  0.62205017\n",
            "epoch:  183 - cost:  0.4516315 - MSE:  2.7222600612109615 - Val Accuracy:  0.6135693\n",
            "epoch:  184 - cost:  0.44741932 - MSE:  2.755611163347289 - Val Accuracy:  0.62205017\n",
            "epoch:  185 - cost:  0.44254625 - MSE:  2.7371029995331315 - Val Accuracy:  0.6124631\n",
            "epoch:  186 - cost:  0.437839 - MSE:  2.7412179541310566 - Val Accuracy:  0.62094396\n",
            "epoch:  187 - cost:  0.43641505 - MSE:  2.742063872661178 - Val Accuracy:  0.6135693\n",
            "epoch:  188 - cost:  0.43680587 - MSE:  2.736550799937186 - Val Accuracy:  0.61873156\n",
            "epoch:  189 - cost:  0.44722274 - MSE:  2.748268118713511 - Val Accuracy:  0.61283183\n",
            "epoch:  190 - cost:  0.44722125 - MSE:  2.7673114177498364 - Val Accuracy:  0.6213127\n",
            "epoch:  191 - cost:  0.46476385 - MSE:  2.751549048385688 - Val Accuracy:  0.61283183\n",
            "epoch:  192 - cost:  0.4498985 - MSE:  2.785008980012716 - Val Accuracy:  0.6242625\n",
            "epoch:  193 - cost:  0.43623012 - MSE:  2.7498735087719357 - Val Accuracy:  0.61762536\n",
            "epoch:  194 - cost:  0.43253204 - MSE:  2.7511720906871444 - Val Accuracy:  0.62094396\n",
            "epoch:  195 - cost:  0.4302253 - MSE:  2.7537874493343906 - Val Accuracy:  0.61541295\n",
            "epoch:  196 - cost:  0.4399385 - MSE:  2.7475725017865633 - Val Accuracy:  0.62205017\n",
            "epoch:  197 - cost:  0.4534133 - MSE:  2.7769732873638056 - Val Accuracy:  0.6135693\n",
            "epoch:  198 - cost:  0.44890818 - MSE:  2.7855876876083294 - Val Accuracy:  0.6253687\n",
            "epoch:  199 - cost:  0.46069443 - MSE:  2.7721964923066333 - Val Accuracy:  0.61393803\n",
            "epoch:  200 - cost:  0.4500003 - MSE:  2.804319447967164 - Val Accuracy:  0.6261062\n",
            "epoch:  201 - cost:  0.43331453 - MSE:  2.771606706022322 - Val Accuracy:  0.6143068\n",
            "epoch:  202 - cost:  0.43791127 - MSE:  2.764568534086492 - Val Accuracy:  0.6227876\n",
            "epoch:  203 - cost:  0.44738734 - MSE:  2.7860023409851102 - Val Accuracy:  0.6146755\n",
            "epoch:  204 - cost:  0.44561446 - MSE:  2.79833542502707 - Val Accuracy:  0.625\n",
            "epoch:  205 - cost:  0.4541338 - MSE:  2.7847084889277114 - Val Accuracy:  0.6132006\n",
            "epoch:  206 - cost:  0.4487618 - MSE:  2.815778089289669 - Val Accuracy:  0.62684363\n",
            "epoch:  207 - cost:  0.44856417 - MSE:  2.7887007706282083 - Val Accuracy:  0.61504424\n",
            "epoch:  208 - cost:  0.43950635 - MSE:  2.7999269035289944 - Val Accuracy:  0.6261062\n",
            "epoch:  209 - cost:  0.43412185 - MSE:  2.7961681964323613 - Val Accuracy:  0.6146755\n",
            "epoch:  210 - cost:  0.43532145 - MSE:  2.787538746362849 - Val Accuracy:  0.6261062\n",
            "epoch:  211 - cost:  0.44480747 - MSE:  2.8000790936717177 - Val Accuracy:  0.6146755\n",
            "epoch:  212 - cost:  0.43866798 - MSE:  2.8136716733885008 - Val Accuracy:  0.62684363\n",
            "epoch:  213 - cost:  0.4336223 - MSE:  2.8051181912035754 - Val Accuracy:  0.6157817\n",
            "epoch:  214 - cost:  0.43616316 - MSE:  2.7983266271965546 - Val Accuracy:  0.62794983\n",
            "epoch:  215 - cost:  0.4494656 - MSE:  2.820308226516887 - Val Accuracy:  0.6135693\n",
            "epoch:  216 - cost:  0.44398692 - MSE:  2.827056787726353 - Val Accuracy:  0.62794983\n",
            "epoch:  217 - cost:  0.44463128 - MSE:  2.810911157965658 - Val Accuracy:  0.61651915\n",
            "epoch:  218 - cost:  0.4387814 - MSE:  2.82946362348465 - Val Accuracy:  0.62905604\n",
            "epoch:  219 - cost:  0.43620735 - MSE:  2.824051919011183 - Val Accuracy:  0.61651915\n",
            "epoch:  220 - cost:  0.43465272 - MSE:  2.807371770672099 - Val Accuracy:  0.6297935\n",
            "epoch:  221 - cost:  0.44415668 - MSE:  2.8217765819364913 - Val Accuracy:  0.61651915\n",
            "epoch:  222 - cost:  0.43738744 - MSE:  2.8308292271897435 - Val Accuracy:  0.62905604\n",
            "epoch:  223 - cost:  0.4331626 - MSE:  2.8290619986143235 - Val Accuracy:  0.6179941\n",
            "epoch:  224 - cost:  0.43536633 - MSE:  2.8209942617311374 - Val Accuracy:  0.62942475\n",
            "epoch:  225 - cost:  0.44461483 - MSE:  2.8304166569434748 - Val Accuracy:  0.61651915\n",
            "epoch:  226 - cost:  0.4372805 - MSE:  2.8495907691808173 - Val Accuracy:  0.6320059\n",
            "epoch:  227 - cost:  0.43212375 - MSE:  2.8446199091090114 - Val Accuracy:  0.6191003\n",
            "epoch:  228 - cost:  0.43437636 - MSE:  2.8182502173969293 - Val Accuracy:  0.63274336\n",
            "epoch:  229 - cost:  0.44520774 - MSE:  2.8445320415779443 - Val Accuracy:  0.61615044\n",
            "epoch:  230 - cost:  0.43899208 - MSE:  2.8566457576863993 - Val Accuracy:  0.63384956\n",
            "epoch:  231 - cost:  0.43539158 - MSE:  2.853696497598113 - Val Accuracy:  0.61983776\n",
            "epoch:  232 - cost:  0.42922205 - MSE:  2.8383480147109585 - Val Accuracy:  0.6331121\n",
            "epoch:  233 - cost:  0.43943292 - MSE:  2.836052562558676 - Val Accuracy:  0.61946905\n",
            "epoch:  234 - cost:  0.43001747 - MSE:  2.8547041376025466 - Val Accuracy:  0.63274336\n",
            "epoch:  235 - cost:  0.42634463 - MSE:  2.850353720233598 - Val Accuracy:  0.61946905\n",
            "epoch:  236 - cost:  0.42335165 - MSE:  2.850441317750209 - Val Accuracy:  0.63384956\n",
            "epoch:  237 - cost:  0.4306842 - MSE:  2.8499811990397954 - Val Accuracy:  0.6216814\n",
            "epoch:  238 - cost:  0.4262993 - MSE:  2.8537550770732567 - Val Accuracy:  0.63458705\n",
            "epoch:  239 - cost:  0.4278788 - MSE:  2.856287208702791 - Val Accuracy:  0.6213127\n",
            "epoch:  240 - cost:  0.42430332 - MSE:  2.8542368020472377 - Val Accuracy:  0.6353245\n",
            "epoch:  241 - cost:  0.43275946 - MSE:  2.8645448302527705 - Val Accuracy:  0.6202065\n",
            "epoch:  242 - cost:  0.43089187 - MSE:  2.8621857161160698 - Val Accuracy:  0.63606197\n",
            "epoch:  243 - cost:  0.4339961 - MSE:  2.8744356997893195 - Val Accuracy:  0.6202065\n",
            "epoch:  244 - cost:  0.4274315 - MSE:  2.8737880133847 - Val Accuracy:  0.63606197\n",
            "epoch:  245 - cost:  0.4327758 - MSE:  2.8693567759741256 - Val Accuracy:  0.6216814\n",
            "epoch:  246 - cost:  0.4296038 - MSE:  2.8828515610801926 - Val Accuracy:  0.63716817\n",
            "epoch:  247 - cost:  0.42977923 - MSE:  2.881835694031852 - Val Accuracy:  0.62057525\n",
            "epoch:  248 - cost:  0.42370614 - MSE:  2.8795853160154232 - Val Accuracy:  0.63606197\n",
            "epoch:  249 - cost:  0.41986647 - MSE:  2.882434751979367 - Val Accuracy:  0.62094396\n",
            "epoch:  250 - cost:  0.41604066 - MSE:  2.8796304511724315 - Val Accuracy:  0.63348085\n",
            "epoch:  251 - cost:  0.41772017 - MSE:  2.8828655404711694 - Val Accuracy:  0.625\n",
            "epoch:  252 - cost:  0.423383 - MSE:  2.8684399457824203 - Val Accuracy:  0.63384956\n",
            "epoch:  253 - cost:  0.43399727 - MSE:  2.8929308994942353 - Val Accuracy:  0.6213127\n",
            "epoch:  254 - cost:  0.43381926 - MSE:  2.905210596408815 - Val Accuracy:  0.6367994\n",
            "epoch:  255 - cost:  0.44968358 - MSE:  2.8894930650619615 - Val Accuracy:  0.61836284\n",
            "epoch:  256 - cost:  0.435488 - MSE:  2.9240344847478403 - Val Accuracy:  0.6353245\n",
            "epoch:  257 - cost:  0.4200576 - MSE:  2.9084443237503743 - Val Accuracy:  0.6224189\n",
            "epoch:  258 - cost:  0.42324108 - MSE:  2.884321840866141 - Val Accuracy:  0.6364307\n",
            "epoch:  259 - cost:  0.43946007 - MSE:  2.9008981612997427 - Val Accuracy:  0.625\n",
            "epoch:  260 - cost:  0.43056315 - MSE:  2.916827236055679 - Val Accuracy:  0.6379056\n",
            "epoch:  261 - cost:  0.44602334 - MSE:  2.893617858412239 - Val Accuracy:  0.6238938\n",
            "epoch:  262 - cost:  0.43038934 - MSE:  2.9372593094856376 - Val Accuracy:  0.6375369\n",
            "epoch:  263 - cost:  0.42147925 - MSE:  2.9186353375526854 - Val Accuracy:  0.6235251\n",
            "epoch:  264 - cost:  0.4181222 - MSE:  2.919338081547078 - Val Accuracy:  0.6367994\n",
            "epoch:  265 - cost:  0.42165074 - MSE:  2.912015026838333 - Val Accuracy:  0.6283186\n",
            "epoch:  266 - cost:  0.41720682 - MSE:  2.9242998315714277 - Val Accuracy:  0.6379056\n",
            "epoch:  267 - cost:  0.41578278 - MSE:  2.9217734390048817 - Val Accuracy:  0.6272124\n",
            "epoch:  268 - cost:  0.41186836 - MSE:  2.921779403843133 - Val Accuracy:  0.6356932\n",
            "epoch:  269 - cost:  0.42162782 - MSE:  2.919620867301148 - Val Accuracy:  0.62942475\n",
            "epoch:  270 - cost:  0.42920563 - MSE:  2.92411302445595 - Val Accuracy:  0.6367994\n",
            "epoch:  271 - cost:  0.44783884 - MSE:  2.912772927423372 - Val Accuracy:  0.6235251\n",
            "epoch:  272 - cost:  0.4309191 - MSE:  2.9680998793706923 - Val Accuracy:  0.6382743\n",
            "epoch:  273 - cost:  0.41818786 - MSE:  2.9406990320383533 - Val Accuracy:  0.6253687\n",
            "epoch:  274 - cost:  0.41668266 - MSE:  2.932745087427741 - Val Accuracy:  0.6382743\n",
            "epoch:  275 - cost:  0.42344013 - MSE:  2.927943173820887 - Val Accuracy:  0.62684363\n",
            "epoch:  276 - cost:  0.4183657 - MSE:  2.9529019405170356 - Val Accuracy:  0.64085543\n",
            "epoch:  277 - cost:  0.42090914 - MSE:  2.9430864648410746 - Val Accuracy:  0.62684363\n",
            "epoch:  278 - cost:  0.41227165 - MSE:  2.9545872427764763 - Val Accuracy:  0.6397493\n",
            "epoch:  279 - cost:  0.41250387 - MSE:  2.945081563061611 - Val Accuracy:  0.63053095\n",
            "epoch:  280 - cost:  0.4129271 - MSE:  2.9532056462221603 - Val Accuracy:  0.6379056\n",
            "epoch:  281 - cost:  0.42021582 - MSE:  2.9482967003491147 - Val Accuracy:  0.6283186\n",
            "epoch:  282 - cost:  0.41253555 - MSE:  2.966714026702661 - Val Accuracy:  0.6397493\n",
            "epoch:  283 - cost:  0.40940335 - MSE:  2.9551735691024996 - Val Accuracy:  0.63126844\n",
            "epoch:  284 - cost:  0.4089599 - MSE:  2.958744622315983 - Val Accuracy:  0.6379056\n",
            "epoch:  285 - cost:  0.42460388 - MSE:  2.967209771382671 - Val Accuracy:  0.6272124\n",
            "epoch:  286 - cost:  0.4196172 - MSE:  2.981216822471721 - Val Accuracy:  0.6404867\n",
            "epoch:  287 - cost:  0.42877218 - MSE:  2.9532611466634004 - Val Accuracy:  0.6272124\n",
            "epoch:  288 - cost:  0.43204188 - MSE:  3.003487958668247 - Val Accuracy:  0.640118\n",
            "epoch:  289 - cost:  0.44206655 - MSE:  2.959664485060132 - Val Accuracy:  0.6246313\n",
            "epoch:  290 - cost:  0.42907438 - MSE:  3.020369410604864 - Val Accuracy:  0.64085543\n",
            "epoch:  291 - cost:  0.41366935 - MSE:  2.9926060810082404 - Val Accuracy:  0.62794983\n",
            "epoch:  292 - cost:  0.40862414 - MSE:  2.9844425472351235 - Val Accuracy:  0.6404867\n",
            "epoch:  293 - cost:  0.4147256 - MSE:  2.9894660038107195 - Val Accuracy:  0.6308997\n",
            "epoch:  294 - cost:  0.41546115 - MSE:  2.989088735513044 - Val Accuracy:  0.6379056\n",
            "epoch:  295 - cost:  0.42635047 - MSE:  2.9860517188248226 - Val Accuracy:  0.6261062\n",
            "epoch:  296 - cost:  0.42411652 - MSE:  3.019631608602082 - Val Accuracy:  0.6397493\n",
            "epoch:  297 - cost:  0.42936325 - MSE:  2.9815394287651222 - Val Accuracy:  0.6253687\n",
            "epoch:  298 - cost:  0.4227741 - MSE:  3.0310572862143212 - Val Accuracy:  0.640118\n",
            "epoch:  299 - cost:  0.43255898 - MSE:  2.998923903108792 - Val Accuracy:  0.6246313\n"
          ],
          "name": "stdout"
        }
      ]
    },
    {
      "cell_type": "code",
      "metadata": {
        "id": "zddR-yJfA6SA",
        "colab": {
          "base_uri": "https://localhost:8080/",
          "height": 279
        },
        "outputId": "3155bfbd-258f-4ef0-93c4-9a544ec7a235"
      },
      "source": [
        "import matplotlib.pyplot as plt\n",
        "%matplotlib inline\n",
        "\n",
        "plt.plot(accuracy_history)\n",
        "plt.xlabel('Epoch')\n",
        "plt.ylabel('Accuracy')\n",
        "plt.show()"
      ],
      "execution_count": null,
      "outputs": [
        {
          "output_type": "display_data",
          "data": {
            "image/png": "[encoded data removed]",
            "text/plain": [
              "<Figure size 432x288 with 1 Axes>"
            ]
          },
          "metadata": {
            "tags": [],
            "needs_background": "light"
          }
        }
      ]
    },
    {
      "cell_type": "code",
      "metadata": {
        "id": "9Ua3PLF2eGAm"
      },
      "source": [
        "plt.plot(train_accuracy_history, 'r')\n",
        "plt.xlabel('Epoch')\n",
        "plt.ylabel('Accuracy')\n",
        "plt.show()"
      ],
      "execution_count": null,
      "outputs": []
    },
    {
      "cell_type": "code",
      "source": [
        "correct_prediction = tf.equal(tf.argmax(y,1), tf.argmax(y_, 1))\n",
        "accuracy = tf.reduce_mean(tf.cast(correct_prediction, tf.float32))\n",
        "print('Test Accuracy: ', (sess.run(accuracy, feed_dict={x: X_test, y_: y_test})))"
      ],
      "metadata": {
        "colab": {
          "base_uri": "https://localhost:8080/"
        },
        "id": "olXVSJNCCDHb",
        "outputId": "229d3c75-09fe-4ff0-d50a-0c3cd28cd6e2"
      },
      "execution_count": 12,
      "outputs": [
        {
          "output_type": "stream",
          "name": "stdout",
          "text": [
            "Test Accuracy: 0.779867257\n"
          ]
        }
      ]
    },
    {
      "cell_type": "code",
      "metadata": {
        "id": "vV_Srn1kbxU0",
        "colab": {
          "base_uri": "https://localhost:8080/",
          "height": 34
        },
        "outputId": "b90349c2-dae8-4a85-f4e4-c2d310c748f9"
      },
      "source": [
        "correct_prediction = tf.argmax(y,1)\n",
        "pred = tf.cast(correct_prediction, tf.float32)\n",
        "ann_pred = sess.run(pred, feed_dict={x: X_test, y_: y_test})\n",
        "print('Predicted Classes: ', ann_pred)"
      ],
      "execution_count": null,
      "outputs": [
        {
          "output_type": "stream",
          "text": [
            "Predicted Classes:  [1. 1. 1. ... 0. 0. 0.]\n"
          ],
          "name": "stdout"
        }
      ]
    },
    {
      "cell_type": "markdown",
      "metadata": {
        "id": "Sr8Nds5hdbuw"
      },
      "source": [
        "## Logistic Regression"
      ]
    },
    {
      "cell_type": "code",
      "metadata": {
        "id": "6IqDgqTVN4Y9",
        "colab": {
          "base_uri": "https://localhost:8080/",
          "height": 102
        },
        "outputId": "7e8f1701-c4ba-4e24-b95a-16a938eb0b35"
      },
      "source": [
        "# scale = MinMaxScaler(feature_range=(-1,1))\n",
        "# data = scale.fit_transform(df.drop('Trend', axis=1))\n",
        "# target = df['Trend'].values\n",
        "\n",
        "# x_train, x_test, target_train, target_test = train_test_split(data, target, test_size=0.3, random_state = 21)\n",
        "\n",
        "from sklearn.linear_model import LogisticRegression\n",
        "logit = LogisticRegression()\n",
        "logit.fit(X_train, target_train)\n"
      ],
      "execution_count": null,
      "outputs": [
        {
          "output_type": "execute_result",
          "data": {
            "text/plain": [
              "LogisticRegression(C=1.0, class_weight=None, dual=False, fit_intercept=True,\n",
              "                   intercept_scaling=1, l1_ratio=None, max_iter=100,\n",
              "                   multi_class='auto', n_jobs=None, penalty='l2',\n",
              "                   random_state=None, solver='lbfgs', tol=0.0001, verbose=0,\n",
              "                   warm_start=False)"
            ]
          },
          "metadata": {
            "tags": []
          },
          "execution_count": 28
        }
      ]
    },
    {
      "cell_type": "code",
      "metadata": {
        "id": "3yZcMtkeU0GU",
        "colab": {
          "base_uri": "https://localhost:8080/",
          "height": 34
        },
        "outputId": "9298d595-8efe-4b26-97eb-c2973157c8a2"
      },
      "source": [
        "y_pred = logit.predict(X_test)\n",
        "logit.score(X_test, target_test)"
      ],
      "execution_count": null,
      "outputs": [
        {
          "output_type": "execute_result",
          "data": {
            "text/plain": [
              "0.8241150442477876"
            ]
          },
          "metadata": {
            "tags": []
          },
          "execution_count": 29
        }
      ]
    },
    {
      "cell_type": "markdown",
      "metadata": {
        "id": "55MYaQYfcmF0"
      },
      "source": [
        "## Metrics from Logistic Regression"
      ]
    },
    {
      "cell_type": "code",
      "metadata": {
        "id": "EZvATZ5qlVyW",
        "colab": {
          "base_uri": "https://localhost:8080/",
          "height": 170
        },
        "outputId": "5a791017-4129-470c-de34-f98ce7409bc9"
      },
      "source": [
        "from sklearn.metrics import classification_report, confusion_matrix\n",
        "\n",
        "print(classification_report(target_test,y_pred))"
      ],
      "execution_count": null,
      "outputs": [
        {
          "output_type": "stream",
          "text": [
            "              precision    recall  f1-score   support\n",
            "\n",
            "           0       0.86      0.73      0.79      1220\n",
            "           1       0.80      0.90      0.85      1492\n",
            "\n",
            "    accuracy                           0.82      2712\n",
            "   macro avg       0.83      0.82      0.82      2712\n",
            "weighted avg       0.83      0.82      0.82      2712\n",
            "\n"
          ],
          "name": "stdout"
        }
      ]
    },
    {
      "cell_type": "code",
      "metadata": {
        "id": "HytNoeCk2TFV",
        "colab": {
          "base_uri": "https://localhost:8080/",
          "height": 51
        },
        "outputId": "a649b393-dcb7-407e-e168-6525e8806554"
      },
      "source": [
        "conf_matrix = confusion_matrix(target_test,y_pred)\n",
        "print(conf_matrix)"
      ],
      "execution_count": null,
      "outputs": [
        {
          "output_type": "stream",
          "text": [
            "[[ 886  334]\n",
            " [ 143 1349]]\n"
          ],
          "name": "stdout"
        }
      ]
    },
    {
      "cell_type": "code",
      "metadata": {
        "id": "NW8DecW7ibDU",
        "colab": {
          "base_uri": "https://localhost:8080/",
          "height": 51
        },
        "outputId": "6cd1833c-acd2-48ce-f82f-68eb3b4f55b8"
      },
      "source": [
        "print('Precision of lr: {}'.format(1349/(1349+334)))\n",
        "print('Recall of lr: {}'.format(1349/(1349+143)))"
      ],
      "execution_count": null,
      "outputs": [
        {
          "output_type": "stream",
          "text": [
            "Precision of lr: 0.8015448603683898\n",
            "Recall of lr: 0.9041554959785523\n"
          ],
          "name": "stdout"
        }
      ]
    },
    {
      "cell_type": "code",
      "metadata": {
        "id": "yRvoejgicRXB",
        "colab": {
          "base_uri": "https://localhost:8080/",
          "height": 282
        },
        "outputId": "ef725703-de5a-4ee1-d3dd-60647bdf6e9a"
      },
      "source": [
        "import seaborn as sns\n",
        "sns.heatmap(conf_matrix, annot=True)"
      ],
      "execution_count": null,
      "outputs": [
        {
          "output_type": "execute_result",
          "data": {
            "text/plain": [
              "<matplotlib.axes._subplots.AxesSubplot at 0x7f291681f940>"
            ]
          },
          "metadata": {
            "tags": []
          },
          "execution_count": 33
        },
        {
          "output_type": "display_data",
          "data": {
            "image/png": "[encoded data removed]",
            "text/plain": [
              "<Figure size 432x288 with 2 Axes>"
            ]
          },
          "metadata": {
            "tags": [],
            "needs_background": "light"
          }
        }
      ]
    },
    {
      "cell_type": "code",
      "metadata": {
        "id": "tn62fn2agYgN",
        "colab": {
          "base_uri": "https://localhost:8080/",
          "height": 34
        },
        "outputId": "b3b65456-2dc3-4a3e-8c27-9114bae045a6"
      },
      "source": [
        "target_test.shape"
      ],
      "execution_count": null,
      "outputs": [
        {
          "output_type": "execute_result",
          "data": {
            "text/plain": [
              "(2712, 1)"
            ]
          },
          "metadata": {
            "tags": []
          },
          "execution_count": 37
        }
      ]
    },
    {
      "cell_type": "code",
      "source": [],
      "metadata": {
        "id": "KgM9NoLaCTml"
      },
      "execution_count": null,
      "outputs": []
    }
  ]
}